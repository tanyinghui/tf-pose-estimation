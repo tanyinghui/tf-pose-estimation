{
 "cells": [
  {
   "cell_type": "code",
   "execution_count": 7,
   "metadata": {
    "scrolled": false
   },
   "outputs": [
    {
     "name": "stderr",
     "output_type": "stream",
     "text": [
      "[2019-10-02 11:49:06,010] [TfPoseEstimator] [INFO] loading graph from /home/yinghuit/Documents/tf-pose-estimation/models/graph/cmu/graph_opt.pb(default size=432x368)\n",
      "I1002 11:49:06.010591 139631239681856 estimator.py:310] loading graph from /home/yinghuit/Documents/tf-pose-estimation/models/graph/cmu/graph_opt.pb(default size=432x368)\n",
      "W1002 11:49:06.013800 139631239681856 deprecation_wrapper.py:119] From /home/yinghuit/Documents/tf-pose-estimation/tf_pose/estimator.py:311: The name tf.gfile.GFile is deprecated. Please use tf.io.gfile.GFile instead.\n",
      "\n",
      "W1002 11:49:06.015469 139631239681856 deprecation_wrapper.py:119] From /home/yinghuit/Documents/tf-pose-estimation/tf_pose/estimator.py:312: The name tf.GraphDef is deprecated. Please use tf.compat.v1.GraphDef instead.\n",
      "\n",
      "W1002 11:49:09.031294 139631239681856 deprecation_wrapper.py:119] From /home/yinghuit/Documents/tf-pose-estimation/tf_pose/estimator.py:330: The name tf.get_default_graph is deprecated. Please use tf.compat.v1.get_default_graph instead.\n",
      "\n",
      "W1002 11:49:09.645834 139631239681856 deprecation_wrapper.py:119] From /home/yinghuit/Documents/tf-pose-estimation/tf_pose/estimator.py:332: The name tf.Session is deprecated. Please use tf.compat.v1.Session instead.\n",
      "\n",
      "W1002 11:49:11.037471 139631239681856 deprecation_wrapper.py:119] From /home/yinghuit/Documents/tf-pose-estimation/tf_pose/estimator.py:341: The name tf.placeholder is deprecated. Please use tf.compat.v1.placeholder instead.\n",
      "\n",
      "W1002 11:49:11.038956 139631239681856 deprecation_wrapper.py:119] From /home/yinghuit/Documents/tf-pose-estimation/tf_pose/estimator.py:342: The name tf.image.resize_area is deprecated. Please use tf.compat.v1.image.resize_area instead.\n",
      "\n",
      "W1002 11:49:11.092974 139631239681856 deprecation_wrapper.py:119] From /home/yinghuit/Documents/tf-pose-estimation/tf_pose/tensblur/smoother.py:96: The name tf.variable_scope is deprecated. Please use tf.compat.v1.variable_scope instead.\n",
      "\n",
      "W1002 11:49:11.114432 139631239681856 deprecation.py:323] From /home/yinghuit/Documents/tf-pose-estimation/tf_pose/estimator.py:354: add_dispatch_support.<locals>.wrapper (from tensorflow.python.ops.array_ops) is deprecated and will be removed in a future version.\n",
      "Instructions for updating:\n",
      "Use tf.where in 2.0, which has the same broadcast rule as np.where\n"
     ]
    },
    {
     "name": "stdout",
     "output_type": "stream",
     "text": [
      "2\n"
     ]
    }
   ],
   "source": [
    "import sys\n",
    "import time\n",
    "\n",
    "from tf_pose import common\n",
    "import cv2\n",
    "import numpy as np\n",
    "from tf_pose.estimator import TfPoseEstimator\n",
    "from tf_pose.networks import get_graph_path, model_wh\n",
    "\n",
    "w, h = model_wh('0x0')\n",
    "if w == 0 or h == 0:\n",
    "    e = TfPoseEstimator(get_graph_path('cmu'), target_size=(432, 368))\n",
    "else:\n",
    "    e = TfPoseEstimator(get_graph_path('cmu'), target_size=(w, h))\n",
    "\n",
    "image = common.read_imgfile('./images/p2.jpg', None, None)\n",
    "image_h, image_w = image.shape[:2]\n",
    "t = time.time()\n",
    "humans = e.inference(image, resize_to_default=(w > 0 and h > 0), upsample_size=4.0)\n",
    "elapsed = time.time() - t\n",
    "log = []\n",
    "for human in humans:\n",
    "    centers = {}\n",
    "    for i in range(common.CocoPart.Background.value):\n",
    "        if i not in human.body_parts.keys():\n",
    "            continue\n",
    "        body_part = human.body_parts[i]\n",
    "        center = (int(body_part.x * image_w + 0.5), int(body_part.y * image_h + 0.5))\n",
    "        centers[i] = center\n",
    "    log.append(centers)\n",
    "\n",
    "print(len(humans))\n",
    "img = TfPoseEstimator.draw_humans(image, humans, imgcopy=False)\n",
    "cv2.imshow('frame', img)\n",
    "cv2.waitKey(0)\n",
    "cv2.destroyAllWindows()"
   ]
  },
  {
   "cell_type": "markdown",
   "metadata": {},
   "source": [
    "## To Draw Human Pose Centers and Lines"
   ]
  },
  {
   "cell_type": "code",
   "execution_count": 9,
   "metadata": {},
   "outputs": [],
   "source": [
    "# Testing\n",
    "\n",
    "image_h = 1080\n",
    "image_w = 1920\n",
    "jsonstring = '[{0: (908, 40), 1: (892, 62), 2: (860, 58), 5: (928, 60), 6: (976, 68), 7: (988, 70), 16: (886, 38), 14: (900, 36), 15: (910, 36)}, {8: (530, 504), 1: (526, 470), 2: (534, 470), 11: (518, 506), 5: (514, 472)}, {17: (584, 274), 5: (606, 308), 6: (600, 348), 7: (588, 356)}]'"
   ]
  },
  {
   "cell_type": "code",
   "execution_count": 11,
   "metadata": {},
   "outputs": [
    {
     "name": "stdout",
     "output_type": "stream",
     "text": [
      "3\n"
     ]
    }
   ],
   "source": [
    "import cv2\n",
    "import numpy as np\n",
    "\n",
    "from tf_pose import common\n",
    "from tf_pose.common import CocoPart\n",
    "\n",
    "img = np.zeros([image_h,image_w,3],dtype=np.uint8)\n",
    "img.fill(255)\n",
    "# log = eval(jsonstring)\n",
    "print(len(log))\n",
    "for obj in log:\n",
    "    for k, v in obj.items():\n",
    "        cv2.circle(img, v, 3, common.CocoColors[k], thickness=3, lineType=8, shift=0)\n",
    "    for pair_order, pair in enumerate(common.CocoPairsRender):\n",
    "        if pair[0] not in obj.keys() or pair[1] not in obj.keys():\n",
    "            continue\n",
    "        cv2.line(img, obj[pair[0]], obj[pair[1]], common.CocoColors[pair_order], 3)\n",
    "cv2.imshow('draw', img)\n",
    "cv2.waitKey(0)\n",
    "cv2.destroyAllWindows()"
   ]
  },
  {
   "cell_type": "code",
   "execution_count": null,
   "metadata": {},
   "outputs": [],
   "source": []
  }
 ],
 "metadata": {
  "kernelspec": {
   "display_name": "Python 3",
   "language": "python",
   "name": "python3"
  },
  "language_info": {
   "codemirror_mode": {
    "name": "ipython",
    "version": 3
   },
   "file_extension": ".py",
   "mimetype": "text/x-python",
   "name": "python",
   "nbconvert_exporter": "python",
   "pygments_lexer": "ipython3",
   "version": "3.6.8"
  }
 },
 "nbformat": 4,
 "nbformat_minor": 2
}
