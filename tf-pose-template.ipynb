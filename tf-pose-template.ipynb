{
 "cells": [
  {
   "cell_type": "code",
   "execution_count": 2,
   "metadata": {},
   "outputs": [],
   "source": [
    "import cv2\n",
    "import time\n",
    "import datetime"
   ]
  },
  {
   "cell_type": "code",
   "execution_count": 7,
   "metadata": {},
   "outputs": [
    {
     "name": "stdout",
     "output_type": "stream",
     "text": [
      "Time Used: 6.8418309688568115\n"
     ]
    }
   ],
   "source": [
    "URLS = [0,0,0,0]\n",
    "\n",
    "start = time.time()\n",
    "\n",
    "for idx, url in enumerate(URLS):\n",
    "    cap = cv2.VideoCapture(url)\n",
    "    ret, frame = cap.read()\n",
    "    time.sleep(2)\n",
    "    while cap.isOpened():\n",
    "        ret, frame = cap.read()\n",
    "        cv2.imwrite('cam-' + str(idx) + '.jpg', frame)\n",
    "        time.sleep(1)\n",
    "        break\n",
    "    cap.release()\n",
    "\n",
    "end = time.time()\n",
    "print('Time Used: ' + str(end - start))"
   ]
  },
  {
   "cell_type": "code",
   "execution_count": 3,
   "metadata": {
    "scrolled": false
   },
   "outputs": [
    {
     "name": "stderr",
     "output_type": "stream",
     "text": [
      "[2019-09-20 17:50:36,118] [TfPoseEstimator] [INFO] loading graph from /home/yinghuit/Documents/tf-pose-estimation/models/graph/cmu/graph_opt.pb(default size=432x368)\n",
      "I0920 17:50:36.118309 140561465644864 estimator.py:310] loading graph from /home/yinghuit/Documents/tf-pose-estimation/models/graph/cmu/graph_opt.pb(default size=432x368)\n"
     ]
    },
    {
     "name": "stdout",
     "output_type": "stream",
     "text": [
      "one human---------------\n",
      "{0: (1690, 206), 1: (1604, 300), 2: (1580, 308), 3: (1512, 430), 5: (1626, 288), 6: (1674, 452), 7: (1742, 544), 14: (1674, 186), 15: (1686, 190), 16: (1608, 194)}\n",
      "one human---------------\n",
      "{0: (300, 356), 1: (186, 438), 2: (202, 448), 3: (1512, 430), 5: (154, 418), 6: (1674, 452), 7: (1742, 544), 14: (290, 334), 15: (1686, 190), 16: (224, 340)}\n",
      "one human---------------\n",
      "{0: (690, 414), 1: (582, 498), 2: (598, 506), 3: (1512, 430), 5: (556, 492), 6: (1674, 452), 7: (1742, 544), 14: (678, 396), 15: (1686, 190), 16: (624, 402)}\n",
      "one human---------------\n",
      "{0: (1340, 272), 1: (1232, 366), 2: (1242, 380), 3: (1512, 430), 5: (556, 492), 6: (1674, 452), 7: (1742, 544), 14: (1320, 254), 15: (1686, 190), 16: (1260, 256)}\n",
      "one human---------------\n",
      "{0: (1006, 174), 1: (886, 266), 2: (1242, 380), 3: (1512, 430), 5: (556, 492), 6: (1674, 452), 7: (1742, 544), 14: (992, 154), 15: (1686, 190), 16: (928, 166)}\n"
     ]
    }
   ],
   "source": [
    "import sys\n",
    "import time\n",
    "\n",
    "from tf_pose import common\n",
    "import cv2\n",
    "import numpy as np\n",
    "from tf_pose.estimator import TfPoseEstimator\n",
    "from tf_pose.networks import get_graph_path, model_wh\n",
    "\n",
    "w, h = model_wh('0x0')\n",
    "if w == 0 or h == 0:\n",
    "    e = TfPoseEstimator(get_graph_path('cmu'), target_size=(432, 368))\n",
    "else:\n",
    "    e = TfPoseEstimator(get_graph_path('cmu'), target_size=(w, h))\n",
    "\n",
    "image = common.read_imgfile('./home.jpg', None, None)\n",
    "image_h, image_w = image.shape[:2]\n",
    "t = time.time()\n",
    "humans = e.inference(image, resize_to_default=(w > 0 and h > 0), upsample_size=4.0)\n",
    "elapsed = time.time() - t\n",
    "log = []\n",
    "centers = {}\n",
    "for human in humans:\n",
    "    # draw point\n",
    "    for i in range(common.CocoPart.Background.value):\n",
    "        if i not in human.body_parts.keys():\n",
    "            continue\n",
    "        body_part = human.body_parts[i]\n",
    "        center = (int(body_part.x * image_w + 0.5), int(body_part.y * image_h + 0.5))\n",
    "        centers[i] = center\n",
    "    print(centers)\n",
    "img = TfPoseEstimator.draw_humans(image, humans, imgcopy=False)\n",
    "cv2.imshow('frame', img)\n",
    "cv2.waitKey(0)\n",
    "cv2.destroyAllWindows()"
   ]
  },
  {
   "cell_type": "code",
   "execution_count": 24,
   "metadata": {},
   "outputs": [
    {
     "data": {
      "image/png": "[encoded data removed]",
      "text/plain": [
       "<Figure size 432x288 with 1 Axes>"
      ]
     },
     "metadata": {
      "needs_background": "light"
     },
     "output_type": "display_data"
    }
   ],
   "source": [
    "import matplotlib.pyplot as plt\n",
    "\n",
    "x1, y1 = [886, 1006], [226, 174]\n",
    "x2, y2 = [1006, 992], [174, 154]\n",
    "x3, y3 = [992, 928], [154, 166]\n",
    "plt.ylim(230, 150) #opencv y-axis descending\n",
    "plt.plot(x1, y1, x2, y2, x3, y3, marker = 'o')\n",
    "plt.show()"
   ]
  },
  {
   "cell_type": "code",
   "execution_count": null,
   "metadata": {},
   "outputs": [],
   "source": []
  }
 ],
 "metadata": {
  "kernelspec": {
   "display_name": "Python 3",
   "language": "python",
   "name": "python3"
  },
  "language_info": {
   "codemirror_mode": {
    "name": "ipython",
    "version": 3
   },
   "file_extension": ".py",
   "mimetype": "text/x-python",
   "name": "python",
   "nbconvert_exporter": "python",
   "pygments_lexer": "ipython3",
   "version": "3.6.8"
  }
 },
 "nbformat": 4,
 "nbformat_minor": 2
}
